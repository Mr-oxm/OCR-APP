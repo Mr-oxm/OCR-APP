{
 "cells": [
  {
   "cell_type": "markdown",
   "metadata": {},
   "source": [
    "# Imports"
   ]
  },
  {
   "cell_type": "code",
   "execution_count": 6,
   "metadata": {
    "ExecuteTime": {
     "end_time": "2024-05-02T16:02:23.420298Z",
     "start_time": "2024-05-02T16:02:23.398481Z"
    }
   },
   "outputs": [],
   "source": [
    "import sys\n",
    "import pickle\n",
    "from PyQt5.QtWidgets import QApplication, QMainWindow, QVBoxLayout, QWidget, QLabel, QPushButton, QTextEdit, QComboBox\n",
    "from PyQt5.QtGui import QPainter, QPen, QImage, QColor, QPixmap\n",
    "from PyQt5.QtCore import Qt, QRect\n",
    "import numpy as np\n",
    "import cv2\n",
    "from keras.models import load_model"
   ]
  },
  {
   "cell_type": "markdown",
   "metadata": {},
   "source": [
    "# Creating prediction output map"
   ]
  },
  {
   "cell_type": "code",
   "execution_count": 7,
   "metadata": {},
   "outputs": [],
   "source": [
    "ascii_map = {} \n",
    "# Mapping over the emnist-balanced-mapping.txt contianing the assci vlaues of every output of the ann\n",
    "with open(\"emnist-balanced-mapping.txt\", \"r\") as file: \n",
    "        lines = file.readlines() \n",
    "        for line in lines: \n",
    "                index, ascii_value = map(int, line.split()) \n",
    "                character = chr(ascii_value) \n",
    "                ascii_map[index] = character \n",
    "        \n",
    "\n",
    "def letter(prediction): \n",
    "        return ascii_map[prediction]\n"
   ]
  },
  {
   "cell_type": "markdown",
   "metadata": {},
   "source": [
    "# Creating Canvas Class (For Painting)"
   ]
  },
  {
   "cell_type": "code",
   "execution_count": 8,
   "metadata": {},
   "outputs": [],
   "source": [
    "class Canvas(QWidget):\n",
    "    def __init__(self):\n",
    "        super().__init__()\n",
    "        self.setFixedSize(400, 400)\n",
    "        self.image = QImage(self.size(), QImage.Format_RGB32)\n",
    "        self.image.fill(Qt.white)\n",
    "        self.last_point = None\n",
    "        self.pen_color = QColor(Qt.black)\n",
    "        self.pen_width = 20\n",
    "\n",
    "    def paintEvent(self, event):\n",
    "        painter = QPainter(self)\n",
    "        painter.drawImage(QRect(0, 0, self.width(), self.height()), self.image, self.image.rect())\n",
    "\n",
    "    def mousePressEvent(self, event):\n",
    "        if event.button() == Qt.LeftButton:\n",
    "            self.last_point = event.pos()\n",
    "\n",
    "    def mouseMoveEvent(self, event):\n",
    "        if event.buttons() and Qt.LeftButton and self.last_point:\n",
    "            painter = QPainter(self.image)\n",
    "            painter.setPen(QPen(self.pen_color, self.pen_width, Qt.SolidLine, Qt.RoundCap, Qt.RoundJoin))\n",
    "            painter.drawLine(self.last_point, event.pos())\n",
    "            self.last_point = event.pos()\n",
    "            self.update()\n",
    "\n",
    "    def mouseReleaseEvent(self, event):\n",
    "        if event.button == Qt.LeftButton:\n",
    "            self.last_point = None\n",
    "\n",
    "    def clearCanvas(self):\n",
    "        self.image.fill(Qt.white)\n",
    "        self.update() \n",
    "    \n",
    "    def predictCharacter(self, predict_image):\n",
    "        # Convert QImage to numpy array\n",
    "        img = self.image.convertToFormat(QImage.Format_Grayscale8)\n",
    "        ptr = img.constBits()\n",
    "        ptr.setsize(img.byteCount())\n",
    "        arr = np.array(ptr).reshape(img.height(), img.width()) \n",
    "\n",
    "        # Threshold the image to binary\n",
    "        _, binary = cv2.threshold(arr, 128, 255, cv2.THRESH_BINARY_INV)\n",
    "\n",
    "        # Find contours of the characters\n",
    "        contours, _ = cv2.findContours(binary, cv2.RETR_EXTERNAL, cv2.CHAIN_APPROX_SIMPLE)\n",
    "\n",
    "        # Sort contours based on their x-coordinate\n",
    "        contours = sorted(contours, key=lambda x: cv2.boundingRect(x)[0])\n",
    "\n",
    "        predictions = []\n",
    "        imgs=[]\n",
    "        for contour in contours:\n",
    "            # Get bounding box coordinates for each character\n",
    "            x, y, w, h = cv2.boundingRect(contour)\n",
    "            \n",
    "            # Extract individual character using slicing and resize it to 28x28 pixels \n",
    "            char_image = arr[y:y+h, x:x+w]\n",
    "            \n",
    "            # Apply properties to the segment\n",
    "            img_resized = cv2.resize(char_image, (28, 28))\n",
    "            img_resized = cv2.bitwise_not(img_resized)\n",
    "            img_resized = cv2.copyMakeBorder(img_resized, 5, 5, 5, 5, cv2.BORDER_CONSTANT, value=(0,0,0))\n",
    "            img_resized = cv2.resize(img_resized, (28, 28))\n",
    "            img_resized = cv2.flip(img_resized, 0)\n",
    "            img_resized = np.rot90(img_resized, -1)\n",
    "            imgs.append(img_resized)\n",
    "            img_resized = img_resized / 255.0\n",
    "            \n",
    "            # Flatten image\n",
    "            img_flattened = img_resized.reshape(1, 784)\n",
    "            \n",
    "            label = predict_image(img_flattened)\n",
    "            \n",
    "            # Append each character's image into a list \n",
    "            predictions.append(label)\n",
    "        \n",
    "        return predictions"
   ]
  },
  {
   "cell_type": "markdown",
   "metadata": {},
   "source": [
    "# The GUI class"
   ]
  },
  {
   "cell_type": "code",
   "execution_count": 9,
   "metadata": {},
   "outputs": [],
   "source": [
    "class MainWindow(QMainWindow):\n",
    "    def __init__(self):\n",
    "        super().__init__()\n",
    "        self.setWindowTitle(\"OCR GUI\")\n",
    "        self.setGeometry(100, 100, 600, 600)\n",
    "        \n",
    "        self.canvas = Canvas()\n",
    "        self.label = QLabel(\"Predicted Text:\")\n",
    "        self.predicted_text = QTextEdit()\n",
    "        self.predicted_text.setReadOnly(True)\n",
    "        self.predicted_text.setFixedSize(200, 100)\n",
    "        self.predicted_text.setAlignment(Qt.AlignTop)\n",
    "        \n",
    "        clear_button = QPushButton(\"Clear Canvas\")\n",
    "        clear_button.clicked.connect(self.canvas.clearCanvas)\n",
    "        \n",
    "        self.model_combobox = QComboBox()\n",
    "        self.model_combobox.addItem(\"ocr-full.h5\")\n",
    "        self.model_combobox.addItem(\"rf_model.pkl\")\n",
    "        \n",
    "        layout = QVBoxLayout()\n",
    "        layout.addWidget(self.canvas)\n",
    "        layout.addWidget(self.label)\n",
    "        layout.addWidget(self.predicted_text)\n",
    "        layout.addWidget(clear_button)\n",
    "        layout.addWidget(self.model_combobox)\n",
    "        \n",
    "        central_widget = QWidget()\n",
    "        central_widget.setLayout(layout)\n",
    "        self.setCentralWidget(central_widget)\n",
    "        \n",
    "        self.model_combobox.currentIndexChanged.connect(self.load_model)\n",
    "        self.current_model = None\n",
    "        self.load_model()  # Load default model\n",
    "        \n",
    "    def load_model(self):\n",
    "        model_filename = self.model_combobox.currentText()\n",
    "        if model_filename.endswith(\".h5\"):\n",
    "            self.current_model = load_model(model_filename)\n",
    "        elif model_filename.endswith(\".pkl\"):\n",
    "            with open(model_filename, \"rb\") as f:\n",
    "                self.current_model = pickle.load(f)\n",
    "        else:\n",
    "            print(\"Unsupported model format:\", model_filename)\n",
    "        \n",
    "    def predict_image(self, img):\n",
    "        prediction = self.current_model.predict(img)\n",
    "        \n",
    "        model_filename = self.model_combobox.currentText()\n",
    "        if model_filename.endswith(\".h5\"): \n",
    "            predicted_index = np.argmax(prediction)\n",
    "        else:\n",
    "            predicted_index=prediction[0]\n",
    "        return letter(predicted_index)\n",
    "    \n",
    "    def update_predicted_text(self, predictions):\n",
    "        current_text = self.predicted_text.toPlainText()\n",
    "        new_text = ''.join(predictions)\n",
    "        self.predicted_text.setPlainText(current_text+ \" \" + new_text)\n",
    "\n",
    "    def keyPressEvent(self, event):\n",
    "        if event.key() == Qt.Key_Return or event.key() == Qt.Key_Enter:\n",
    "            predictions = self.canvas.predictCharacter(self.predict_image)\n",
    "            self.update_predicted_text(predictions)\n"
   ]
  },
  {
   "cell_type": "markdown",
   "metadata": {},
   "source": [
    "# Main funciton"
   ]
  },
  {
   "cell_type": "code",
   "execution_count": 10,
   "metadata": {},
   "outputs": [
    {
     "name": "stdout",
     "output_type": "stream",
     "text": [
      "1/1 [==============================] - 0s 44ms/step\n",
      "1/1 [==============================] - 0s 39ms/step\n",
      "1/1 [==============================] - 0s 19ms/step\n",
      "1/1 [==============================] - 0s 17ms/step\n",
      "1/1 [==============================] - 0s 17ms/step\n",
      "1/1 [==============================] - 0s 18ms/step\n",
      "1/1 [==============================] - 0s 17ms/step\n",
      "1/1 [==============================] - 0s 16ms/step\n"
     ]
    }
   ],
   "source": [
    "def main():\n",
    "    app = QApplication(sys.argv)\n",
    "    window = MainWindow()\n",
    "    window.show()\n",
    "    sys.exit(app.exec_())\n",
    "\n",
    "if __name__ == \"__main__\":\n",
    "    main()\n"
   ]
  }
 ],
 "metadata": {
  "kernelspec": {
   "display_name": "Python 3",
   "language": "python",
   "name": "python3"
  },
  "language_info": {
   "codemirror_mode": {
    "name": "ipython",
    "version": 3
   },
   "file_extension": ".py",
   "mimetype": "text/x-python",
   "name": "python",
   "nbconvert_exporter": "python",
   "pygments_lexer": "ipython3",
   "version": "3.10.6"
  }
 },
 "nbformat": 4,
 "nbformat_minor": 2
}
